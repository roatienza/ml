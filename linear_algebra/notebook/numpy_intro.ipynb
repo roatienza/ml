{
 "cells": [
  {
   "cell_type": "markdown",
   "metadata": {
    "colab_type": "text",
    "id": "WjEutpLi_wKU"
   },
   "source": [
    "# Introducing `numpy` (Numerical Python)\n",
    "`numpy` or simply `np` is a popular machine learning library in Python. Almost all linear algebra data, operations, and algorithms can be programmed with the help of `np`.\n",
    "\n",
    "## Tensors\n",
    "A tensor is instantiated using `array()` method of `numpy`. In particular, we can create a column vector by supplying its elements:"
   ]
  },
  {
   "cell_type": "code",
   "execution_count": 1,
   "metadata": {
    "colab": {
     "base_uri": "https://localhost:8080/",
     "height": 51
    },
    "colab_type": "code",
    "id": "uZlwNA94-TSu",
    "outputId": "b0518e3f-1112-4a6a-872d-2ce6d2e3de43"
   },
   "outputs": [
    {
     "name": "stdout",
     "output_type": "stream",
     "text": [
      "(2, 1)\n",
      "(3, 1)\n"
     ]
    }
   ],
   "source": [
    "import numpy as np\n",
    "a = np.array([[1],[-1]])\n",
    "b = np.array([[-1],[2],[0]])\n",
    "print(a.shape)\n",
    "print(b.shape)"
   ]
  },
  {
   "cell_type": "markdown",
   "metadata": {
    "colab_type": "text",
    "id": "3gtwVZmi_wNI"
   },
   "source": [
    "We use a tensor's `shape` property to determine its dimensions. \n",
    "\n",
    "Technically, a vector is a column vector. So, the following are not vectors as we know in linear algebra:"
   ]
  },
  {
   "cell_type": "code",
   "execution_count": 2,
   "metadata": {
    "colab": {
     "base_uri": "https://localhost:8080/",
     "height": 51
    },
    "colab_type": "code",
    "id": "KH-lWaEFCPPe",
    "outputId": "27f4e6c2-9427-4649-8306-97c54d4777c3"
   },
   "outputs": [
    {
     "name": "stdout",
     "output_type": "stream",
     "text": [
      "(2,)\n",
      "(3,)\n"
     ]
    }
   ],
   "source": [
    "a = np.array([1, -1])\n",
    "b = np.array([-1,2,0])\n",
    "print(a.shape)\n",
    "print(b.shape)"
   ]
  },
  {
   "cell_type": "markdown",
   "metadata": {},
   "source": [
    "However, computers see both of them as simply sequence of data. Loosely, both can be interpreted as vectors. We can always reshape a tensor from one dimension into another. Before discussing the `reshape` method, let us digress and discuss list and tuple.\n",
    "## List and Tuple"
   ]
  },
  {
   "cell_type": "markdown",
   "metadata": {
    "colab_type": "text",
    "id": "JRlVsbs2XzcM"
   },
   "source": [
    "Before going further about shapes, let us focus on list and tuples. Both represent input arguments and output results of `np` functions.\n",
    "A list is surrounded by brackets `[]`. The elements can change and not necessarily unique."
   ]
  },
  {
   "cell_type": "code",
   "execution_count": 3,
   "metadata": {
    "colab": {
     "base_uri": "https://localhost:8080/",
     "height": 51
    },
    "colab_type": "code",
    "id": "9jEEhCsNZKwH",
    "outputId": "8571356a-a452-40e9-8999-6b374207bda4"
   },
   "outputs": [
    {
     "name": "stdout",
     "output_type": "stream",
     "text": [
      "[1, 2]\n",
      "[1, 2, 3, 4]\n"
     ]
    }
   ],
   "source": [
    "# a list with 2 elements\n",
    "a = [1,2]\n",
    "print(a)\n",
    "# let's add 2 elements\n",
    "# using append()\n",
    "a.append(3)\n",
    "# using + operator\n",
    "a += [4]\n",
    "print(a)"
   ]
  },
  {
   "cell_type": "markdown",
   "metadata": {
    "colab_type": "text",
    "id": "7_TwqE4YrJPL"
   },
   "source": [
    "Instead of list, `np` can also use tuples. A tuple is like a list except that it is enclosed in `()`. The elements are fixed after a list has been created. "
   ]
  },
  {
   "cell_type": "code",
   "execution_count": 4,
   "metadata": {
    "colab": {
     "base_uri": "https://localhost:8080/",
     "height": 198
    },
    "colab_type": "code",
    "id": "rpwGRZ30r3GI",
    "outputId": "666bcfc1-24ba-44b3-bc99-798d7588d579"
   },
   "outputs": [
    {
     "name": "stdout",
     "output_type": "stream",
     "text": [
      "(1, 2)\n"
     ]
    },
    {
     "ename": "AttributeError",
     "evalue": "'tuple' object has no attribute 'append'",
     "output_type": "error",
     "traceback": [
      "\u001b[0;31m---------------------------------------------------------------------------\u001b[0m",
      "\u001b[0;31mAttributeError\u001b[0m                            Traceback (most recent call last)",
      "\u001b[1;32m/Users/rowel/github/roatienza/ml/linear_algebra/notebook/numpy_intro.ipynb Cell 9\u001b[0m in \u001b[0;36m<module>\u001b[0;34m\u001b[0m\n\u001b[1;32m      <a href='vscode-notebook-cell:/Users/rowel/github/roatienza/ml/linear_algebra/notebook/numpy_intro.ipynb#X11sZmlsZQ%3D%3D?line=2'>3</a>\u001b[0m \u001b[39mprint\u001b[39m(a)\n\u001b[1;32m      <a href='vscode-notebook-cell:/Users/rowel/github/roatienza/ml/linear_algebra/notebook/numpy_intro.ipynb#X11sZmlsZQ%3D%3D?line=3'>4</a>\u001b[0m \u001b[39m# this is an error since a tuple can not be changed after initialization\u001b[39;00m\n\u001b[0;32m----> <a href='vscode-notebook-cell:/Users/rowel/github/roatienza/ml/linear_algebra/notebook/numpy_intro.ipynb#X11sZmlsZQ%3D%3D?line=4'>5</a>\u001b[0m a\u001b[39m.\u001b[39;49mappend(\u001b[39m3\u001b[39m)\n\u001b[1;32m      <a href='vscode-notebook-cell:/Users/rowel/github/roatienza/ml/linear_algebra/notebook/numpy_intro.ipynb#X11sZmlsZQ%3D%3D?line=5'>6</a>\u001b[0m a \u001b[39m+\u001b[39m\u001b[39m=\u001b[39m (\u001b[39m3\u001b[39m)\n",
      "\u001b[0;31mAttributeError\u001b[0m: 'tuple' object has no attribute 'append'"
     ]
    }
   ],
   "source": [
    "# a tuple with 2 elements\n",
    "a = (1,2)\n",
    "print(a)\n",
    "# this is an error since a tuple can not be changed after initialization\n",
    "a.append(3)\n",
    "a += (3)"
   ]
  },
  {
   "cell_type": "markdown",
   "metadata": {},
   "source": [
    "`np` accepts both list and tuple as arguments."
   ]
  },
  {
   "cell_type": "code",
   "execution_count": 5,
   "metadata": {},
   "outputs": [
    {
     "name": "stdout",
     "output_type": "stream",
     "text": [
      "[ 1 -1]\n",
      "[ 1 -1]\n"
     ]
    }
   ],
   "source": [
    "# list to np tensor\n",
    "print(np.array([1,-1]))\n",
    "# tuple to np tensor\n",
    "print(np.array((1,-1)))"
   ]
  },
  {
   "cell_type": "markdown",
   "metadata": {
    "colab_type": "text",
    "id": "z8FCWlDNtpdP"
   },
   "source": [
    "## Tensor Shape"
   ]
  },
  {
   "cell_type": "markdown",
   "metadata": {
    "colab_type": "text",
    "id": "AFwAqzvVDC0e"
   },
   "source": [
    "As mentioned earlier, we can use `reshape()` function to reshape a tensor into a column vector:"
   ]
  },
  {
   "cell_type": "code",
   "execution_count": 6,
   "metadata": {
    "colab": {
     "base_uri": "https://localhost:8080/",
     "height": 51
    },
    "colab_type": "code",
    "id": "8e0d4_hjDNBA",
    "outputId": "162345aa-4031-4854-cdf7-bb58703d0f10"
   },
   "outputs": [
    {
     "name": "stdout",
     "output_type": "stream",
     "text": [
      "(2, 1)\n",
      "(3, 1)\n"
     ]
    }
   ],
   "source": [
    "a = np.array([1, -1])\n",
    "b = np.array([-1,2,0])\n",
    "a = np.reshape(a,[-1,1])\n",
    "b = np.reshape(b,[-1,1])\n",
    "print(a.shape)\n",
    "print(b.shape)"
   ]
  },
  {
   "cell_type": "markdown",
   "metadata": {
    "colab_type": "text",
    "id": "KJeiqLfkk_ne"
   },
   "source": [
    "The use of `-1` value means let `np` figure out the other dimension given that the last dimension must be `1`.\n",
    "Let us generate a tensor with `16` random integers from `-10` to `10`: "
   ]
  },
  {
   "cell_type": "code",
   "execution_count": 7,
   "metadata": {
    "colab": {
     "base_uri": "https://localhost:8080/",
     "height": 51
    },
    "colab_type": "code",
    "id": "iTYprgMrlVSL",
    "outputId": "38a816e7-6ce3-45f3-dd98-8aca3dbfb58e"
   },
   "outputs": [
    {
     "name": "stdout",
     "output_type": "stream",
     "text": [
      "[  9   0   9  -8  -1  -2  -8 -10   6   2   9  -8   4   5  -5   4]\n",
      "(16,)\n"
     ]
    }
   ],
   "source": [
    "a = np.random.randint(-10,10,(16,))\n",
    "print(a)\n",
    "print(a.shape)"
   ]
  },
  {
   "cell_type": "markdown",
   "metadata": {
    "colab_type": "text",
    "id": "ttc-G2m9mIZM"
   },
   "source": [
    "Let's reshape `a` as `[16,1]`, `[1,16]`, `[4,4]`, `[2,2,4]`. To minimize the repetition of code, let us build a reusable function for reshaping tensors and use it to reshape our `(16,)` tensor into the target shape."
   ]
  },
  {
   "cell_type": "code",
   "execution_count": 8,
   "metadata": {
    "colab": {
     "base_uri": "https://localhost:8080/",
     "height": 527
    },
    "colab_type": "code",
    "id": "RIj5JLzvmZPV",
    "outputId": "363ab271-42e5-4e4a-8e5c-bca11283a9be"
   },
   "outputs": [
    {
     "name": "stdout",
     "output_type": "stream",
     "text": [
      "[[  9]\n",
      " [  0]\n",
      " [  9]\n",
      " [ -8]\n",
      " [ -1]\n",
      " [ -2]\n",
      " [ -8]\n",
      " [-10]\n",
      " [  6]\n",
      " [  2]\n",
      " [  9]\n",
      " [ -8]\n",
      " [  4]\n",
      " [  5]\n",
      " [ -5]\n",
      " [  4]]\n",
      "(16, 1)\n",
      "[[  9   0   9  -8  -1  -2  -8 -10   6   2   9  -8   4   5  -5   4]]\n",
      "(1, 16)\n",
      "[[  9   0   9  -8]\n",
      " [ -1  -2  -8 -10]\n",
      " [  6   2   9  -8]\n",
      " [  4   5  -5   4]]\n",
      "(4, 4)\n",
      "[[[  9   0   9  -8]\n",
      "  [ -1  -2  -8 -10]]\n",
      "\n",
      " [[  6   2   9  -8]\n",
      "  [  4   5  -5   4]]]\n",
      "(2, 2, 4)\n"
     ]
    }
   ],
   "source": [
    "def tensor_shaper(a, shape):\n",
    "  a = np.reshape(a, shape)\n",
    "  print(a)\n",
    "  print(a.shape)\n",
    "\n",
    "tensor_shaper(a,[16,1])\n",
    "tensor_shaper(a,[1,16])\n",
    "tensor_shaper(a,[4,4])\n",
    "tensor_shaper(a,[2,2,4])"
   ]
  },
  {
   "cell_type": "markdown",
   "metadata": {
    "colab_type": "text",
    "id": "l31CSeH11ObW"
   },
   "source": [
    "## Tensor Operations\n",
    "\n",
    "`numpy` supports various tensor operations."
   ]
  },
  {
   "cell_type": "markdown",
   "metadata": {
    "colab_type": "text",
    "id": "TUODrekP1hTM"
   },
   "source": [
    "For example: tensor addition"
   ]
  },
  {
   "cell_type": "code",
   "execution_count": 9,
   "metadata": {
    "colab": {
     "base_uri": "https://localhost:8080/",
     "height": 153
    },
    "colab_type": "code",
    "id": "duz51P5a1v9s",
    "outputId": "1a563af8-35c0-40eb-ec06-ff71ebbfc4b0"
   },
   "outputs": [
    {
     "name": "stdout",
     "output_type": "stream",
     "text": [
      "[[-2 -4]\n",
      " [ 0 -4]] : a\n",
      "[[ 3 -2]\n",
      " [ 2 -1]] : b\n",
      "[[ 1 -6]\n",
      " [ 2 -5]] : a+b\n",
      "[[ 1 -6]\n",
      " [ 2 -5]] : a+b\n"
     ]
    }
   ],
   "source": [
    "a = np.random.randint(-4,4,(2,2))\n",
    "b = np.random.randint(-4,4,(2,2))\n",
    "print(a, \": a\")\n",
    "print(b, \": b\")\n",
    "# using + operator\n",
    "print(a+b, \": a+b\")\n",
    "# alternatively using add() method\n",
    "print(np.add(a,b), \": a+b\")"
   ]
  },
  {
   "cell_type": "markdown",
   "metadata": {
    "colab_type": "text",
    "id": "sYboj0F73VkH"
   },
   "source": [
    "Other examples: subtraction, multiplication, division"
   ]
  },
  {
   "cell_type": "code",
   "execution_count": null,
   "metadata": {
    "colab": {
     "base_uri": "https://localhost:8080/",
     "height": 289
    },
    "colab_type": "code",
    "id": "KVudP_QW3cs-",
    "outputId": "d042e752-dc7f-4e77-d057-7bbc998fa507"
   },
   "outputs": [],
   "source": [
    "a = np.random.randint(-4,4,(2,2))\n",
    "b = np.random.randint(-4,4,(2,2))\n",
    "print(a, \": a\")\n",
    "print(b, \": b\")\n",
    "# using - operator\n",
    "print(a-b, \": a-b\")\n",
    "# alternatively using subtract() method\n",
    "print(np.subtract(a,b), \": a-b\")\n",
    "\n",
    "# using * operator (Hadamard Product or element-wise multiply)\n",
    "print(a*b, \": a*b\")\n",
    "# alternatively using multiply() method\n",
    "print(np.multiply(a,b), \": a*b = Hadamard product\")\n",
    "\n",
    "# matrix multiply as we know it in linear algebra\n",
    "print(np.matmul(a,b), \": a*b = linear algebra mul\")\n",
    "\n",
    "if b.all():\n",
    "    print(a/b, \": a/b\")\n",
    "    # alternatively using divide() method\n",
    "    print(np.divide(a,b), \": a/b\")\n",
    "else:\n",
    "    print(\"Divide by zero is not defined.\")"
   ]
  },
  {
   "cell_type": "markdown",
   "metadata": {
    "colab_type": "text",
    "id": "fHU35Eno6Sft"
   },
   "source": [
    "Note that the multiply method is an element-wise multiplication (Hadamard product) not matrix multiplication. If we want matrix multiplication, we shoud use `matmul()` method."
   ]
  },
  {
   "cell_type": "code",
   "execution_count": null,
   "metadata": {
    "colab": {
     "base_uri": "https://localhost:8080/",
     "height": 51
    },
    "colab_type": "code",
    "id": "wDAMrhu0_s5O",
    "outputId": "db3c5aff-8204-4159-cd5e-02ca2d71590d"
   },
   "outputs": [],
   "source": [
    "print(np.matmul(a,b), \": a matmul b\")"
   ]
  },
  {
   "cell_type": "markdown",
   "metadata": {
    "colab_type": "text",
    "id": "AG4ahadyNGqR"
   },
   "source": [
    "## Vector Operation\n",
    "In machine learning, dot product is a common vector operation. For example, it is used to the measure similarity between 2 vectors. In `np`, we use `dot()` method to execute a dot product."
   ]
  },
  {
   "cell_type": "code",
   "execution_count": null,
   "metadata": {
    "colab": {
     "base_uri": "https://localhost:8080/",
     "height": 102
    },
    "colab_type": "code",
    "id": "h-ktJjjbNOs9",
    "outputId": "00686fcd-c21a-4960-fe9e-c7ae2e054c4c"
   },
   "outputs": [],
   "source": [
    "a = np.array([1,2,-1])\n",
    "a = np.reshape(a, (1,-1))\n",
    "b = np.array([1,2,1])\n",
    "b = np.reshape(b, (-1,1))\n",
    "\n",
    "# equiv to inner product 1 x 3 dot 3 x 1 = 1 x 1\n",
    "c = np.dot(a,b)\n",
    "print(a, \": a\")\n",
    "print(b, \": b\")\n",
    "print(c, \": a dot b\")\n",
    "\n"
   ]
  },
  {
   "cell_type": "markdown",
   "metadata": {},
   "source": [
    "## Other Tensor Operations\n",
    "Transpose, trace, diagonal elements, inverse (if square and non-singular).\n",
    "Transpose:"
   ]
  },
  {
   "cell_type": "code",
   "execution_count": 10,
   "metadata": {},
   "outputs": [
    {
     "name": "stdout",
     "output_type": "stream",
     "text": [
      "[[ 0 -2 -2 -2]\n",
      " [ 1 -1 -1 -3]\n",
      " [-3  2  0 -1]\n",
      " [ 2  0  0  0]]\n"
     ]
    }
   ],
   "source": [
    "a = np.random.randint(-3,3,(4,4))\n",
    "print(a)"
   ]
  },
  {
   "cell_type": "code",
   "execution_count": 11,
   "metadata": {},
   "outputs": [
    {
     "name": "stdout",
     "output_type": "stream",
     "text": [
      "[[ 0  1 -3  2]\n",
      " [-2 -1  2  0]\n",
      " [-2 -1  0  0]\n",
      " [-2 -3 -1  0]]\n"
     ]
    }
   ],
   "source": [
    "print(a.T)"
   ]
  },
  {
   "cell_type": "code",
   "execution_count": 12,
   "metadata": {},
   "outputs": [
    {
     "name": "stdout",
     "output_type": "stream",
     "text": [
      "-1\n"
     ]
    }
   ],
   "source": [
    "print(np.trace(a))"
   ]
  },
  {
   "cell_type": "code",
   "execution_count": 13,
   "metadata": {},
   "outputs": [
    {
     "name": "stdout",
     "output_type": "stream",
     "text": [
      "[ 0 -1  0  0]\n"
     ]
    }
   ],
   "source": [
    "print(np.diagonal(a))"
   ]
  },
  {
   "cell_type": "code",
   "execution_count": 14,
   "metadata": {},
   "outputs": [
    {
     "name": "stdout",
     "output_type": "stream",
     "text": [
      "[[-7.40148683e-17 -0.00000000e+00 -0.00000000e+00  5.00000000e-01]\n",
      " [ 1.25000000e-01 -2.50000000e-01  5.00000000e-01  8.75000000e-01]\n",
      " [-8.75000000e-01  7.50000000e-01 -5.00000000e-01 -1.12500000e+00]\n",
      " [ 2.50000000e-01 -5.00000000e-01 -0.00000000e+00  2.50000000e-01]]\n"
     ]
    }
   ],
   "source": [
    "print(np.linalg.inv(a))"
   ]
  },
  {
   "cell_type": "markdown",
   "metadata": {
    "colab_type": "text",
    "id": "l-f_kdewLrO0"
   },
   "source": [
    "## Data Types"
   ]
  },
  {
   "cell_type": "markdown",
   "metadata": {
    "colab_type": "text",
    "id": "O-2uWrhWA3L-"
   },
   "source": [
    "For convenience, we have used `int` elements. In machine learning, tensors are generally floating point datatypes. Exceptions are in quantized models used in resource constrained computers. Here are some examples of tensors of the same numerical value but with different precision:"
   ]
  },
  {
   "cell_type": "code",
   "execution_count": 15,
   "metadata": {
    "colab": {
     "base_uri": "https://localhost:8080/",
     "height": 119
    },
    "colab_type": "code",
    "id": "S3imi0AkBOOf",
    "outputId": "b625375f-bdd1-4f79-cd87-85e8bd2c0157"
   },
   "outputs": [
    {
     "name": "stdout",
     "output_type": "stream",
     "text": [
      "[1 2]  :a\n",
      "a.dtype int64\n",
      "[1. 2.]  :b\n",
      "b.dtype float32\n",
      "[1. 2.]  :c\n",
      "c.dtype float64\n"
     ]
    }
   ],
   "source": [
    "a = np.array([1, 2], np.int)\n",
    "print(a, \" :a\")\n",
    "print(\"a.dtype\", a.dtype)\n",
    "\n",
    "b = np.array([1, 2], np.float32)\n",
    "print(b, \" :b\")\n",
    "print(\"b.dtype\", b.dtype)\n",
    "\n",
    "# np can figure out the data type from initial values\n",
    "c = np.array([1., 2.])\n",
    "print(c, \" :c\")\n",
    "print(\"c.dtype\", c.dtype)"
   ]
  },
  {
   "cell_type": "markdown",
   "metadata": {
    "colab_type": "text",
    "id": "gioCK3lYMBfb"
   },
   "source": [
    "## Special Tensors\n",
    "`np` has methods to instantiate special tensors\n",
    "For example, tensor of ones and zeros:"
   ]
  },
  {
   "cell_type": "code",
   "execution_count": 16,
   "metadata": {
    "colab": {
     "base_uri": "https://localhost:8080/",
     "height": 119
    },
    "colab_type": "code",
    "id": "u-Gt14TNMVZS",
    "outputId": "dbf1a266-b0d0-48ab-e09a-b46a2f3a6cec"
   },
   "outputs": [
    {
     "name": "stdout",
     "output_type": "stream",
     "text": [
      "[[1. 1. 1.]\n",
      " [1. 1. 1.]\n",
      " [1. 1. 1.]]\n",
      "[[0. 0. 0.]\n",
      " [0. 0. 0.]\n",
      " [0. 0. 0.]]\n"
     ]
    }
   ],
   "source": [
    "a = np.ones([3,3])\n",
    "print(a)\n",
    "b = np.zeros([3,3])\n",
    "print(b)"
   ]
  },
  {
   "cell_type": "markdown",
   "metadata": {
    "colab_type": "text",
    "id": "RRmXsenqMlBE"
   },
   "source": [
    "Diagonal tensor:"
   ]
  },
  {
   "cell_type": "code",
   "execution_count": 17,
   "metadata": {
    "colab": {
     "base_uri": "https://localhost:8080/",
     "height": 68
    },
    "colab_type": "code",
    "id": "rdlODKKoMqeZ",
    "outputId": "6b22c7f6-67c0-4aec-ad4a-788e10f12f90"
   },
   "outputs": [
    {
     "name": "stdout",
     "output_type": "stream",
     "text": [
      "[[1. 0. 0.]\n",
      " [0. 1. 0.]\n",
      " [0. 0. 1.]]\n"
     ]
    }
   ],
   "source": [
    "a = np.diag(np.ones((3,)))\n",
    "print(a)"
   ]
  },
  {
   "cell_type": "markdown",
   "metadata": {
    "colab_type": "text",
    "id": "9wIhk7CISv2_"
   },
   "source": [
    "The above example creates an identity matrix. We can create the same identity matrix using `identity` method:\n"
   ]
  },
  {
   "cell_type": "code",
   "execution_count": 18,
   "metadata": {
    "colab": {
     "base_uri": "https://localhost:8080/",
     "height": 68
    },
    "colab_type": "code",
    "id": "iI63UxWXZzD1",
    "outputId": "40f8ddf0-75dd-4fd1-cf98-bd9ebba0a571"
   },
   "outputs": [
    {
     "name": "stdout",
     "output_type": "stream",
     "text": [
      "[[1. 0. 0.]\n",
      " [0. 1. 0.]\n",
      " [0. 0. 1.]]\n"
     ]
    }
   ],
   "source": [
    "# 3 x 3 identity matrix\n",
    "print(np.identity(3))"
   ]
  },
  {
   "cell_type": "markdown",
   "metadata": {},
   "source": [
    "## Axis\n",
    "Every tensor has dimensions. As such, `np` supports operations with respect to a specific dimension. \n",
    "For example, given a `4x5` tensor with random integer elements, let us compute the `sum` per row (ie along `axis=1`) or per column (ie along `axis=0`):"
   ]
  },
  {
   "cell_type": "code",
   "execution_count": 19,
   "metadata": {},
   "outputs": [
    {
     "name": "stdout",
     "output_type": "stream",
     "text": [
      "[[-3  0  1 -1  0]\n",
      " [-1 -1 -2  2  2]\n",
      " [-3  1 -3 -1  0]\n",
      " [-1 -1 -1  2 -2]]\n",
      "[-3  0 -6 -3]\n"
     ]
    }
   ],
   "source": [
    "a = np.random.randint(-3,3,(4,5))\n",
    "print(a)\n",
    "row_max = np.sum(a, axis=1)\n",
    "print(row_max)"
   ]
  },
  {
   "cell_type": "code",
   "execution_count": 20,
   "metadata": {},
   "outputs": [
    {
     "name": "stdout",
     "output_type": "stream",
     "text": [
      "[-8 -1 -5  2  0]\n"
     ]
    }
   ],
   "source": [
    "row_col = np.sum(a, axis=0)\n",
    "print(row_col)"
   ]
  },
  {
   "cell_type": "markdown",
   "metadata": {},
   "source": [
    "We can also get the sum of all elemennts:"
   ]
  },
  {
   "cell_type": "code",
   "execution_count": 21,
   "metadata": {},
   "outputs": [
    {
     "name": "stdout",
     "output_type": "stream",
     "text": [
      "-12\n"
     ]
    }
   ],
   "source": [
    "print(np.sum(a))"
   ]
  },
  {
   "cell_type": "markdown",
   "metadata": {},
   "source": [
    "## Other Common Functions\n",
    "Maximum element in a tensor:"
   ]
  },
  {
   "cell_type": "code",
   "execution_count": 22,
   "metadata": {},
   "outputs": [
    {
     "name": "stdout",
     "output_type": "stream",
     "text": [
      "[[-1 -8 -5 -9  8]\n",
      " [ 3 -6 -1  2 -6]\n",
      " [ 2 -5 -3 -9 -8]\n",
      " [-5 -9 -6 -9  2]]\n",
      "8\n"
     ]
    }
   ],
   "source": [
    "a = np.random.randint(-10,10,(4,5))\n",
    "print(a)\n",
    "print(np.amax(a))"
   ]
  },
  {
   "cell_type": "markdown",
   "metadata": {},
   "source": [
    "Minimum element in a tensor:"
   ]
  },
  {
   "cell_type": "code",
   "execution_count": 23,
   "metadata": {},
   "outputs": [
    {
     "name": "stdout",
     "output_type": "stream",
     "text": [
      "-9\n"
     ]
    }
   ],
   "source": [
    "print(np.amin(a))"
   ]
  },
  {
   "cell_type": "markdown",
   "metadata": {},
   "source": [
    "Absolute value, squared, etc:"
   ]
  },
  {
   "cell_type": "code",
   "execution_count": 24,
   "metadata": {},
   "outputs": [
    {
     "name": "stdout",
     "output_type": "stream",
     "text": [
      "[[1 8 5 9 8]\n",
      " [3 6 1 2 6]\n",
      " [2 5 3 9 8]\n",
      " [5 9 6 9 2]]\n"
     ]
    }
   ],
   "source": [
    "print(np.abs(a))"
   ]
  },
  {
   "cell_type": "code",
   "execution_count": 25,
   "metadata": {},
   "outputs": [
    {
     "name": "stdout",
     "output_type": "stream",
     "text": [
      "[[ 1 64 25 81 64]\n",
      " [ 9 36  1  4 36]\n",
      " [ 4 25  9 81 64]\n",
      " [25 81 36 81  4]]\n"
     ]
    }
   ],
   "source": [
    "print(a**2)"
   ]
  },
  {
   "cell_type": "markdown",
   "metadata": {},
   "source": [
    "Square root of absolute value:"
   ]
  },
  {
   "cell_type": "code",
   "execution_count": 26,
   "metadata": {},
   "outputs": [
    {
     "name": "stdout",
     "output_type": "stream",
     "text": [
      "[[1.         2.82842712 2.23606798 3.         2.82842712]\n",
      " [1.73205081 2.44948974 1.         1.41421356 2.44948974]\n",
      " [1.41421356 2.23606798 1.73205081 3.         2.82842712]\n",
      " [2.23606798 3.         2.44948974 3.         1.41421356]]\n"
     ]
    }
   ],
   "source": [
    "print(np.sqrt(np.abs(a)))"
   ]
  },
  {
   "cell_type": "code",
   "execution_count": null,
   "metadata": {},
   "outputs": [],
   "source": []
  }
 ],
 "metadata": {
  "colab": {
   "collapsed_sections": [],
   "name": "numpy_intro.ipynb",
   "provenance": []
  },
  "kernelspec": {
   "display_name": "Python 3.9.12 64-bit",
   "language": "python",
   "name": "python3"
  },
  "language_info": {
   "codemirror_mode": {
    "name": "ipython",
    "version": 3
   },
   "file_extension": ".py",
   "mimetype": "text/x-python",
   "name": "python",
   "nbconvert_exporter": "python",
   "pygments_lexer": "ipython3",
   "version": "3.9.12"
  },
  "vscode": {
   "interpreter": {
    "hash": "aee8b7b246df8f9039afb4144a1f6fd8d2ca17a180786b69acc140d282b71a49"
   }
  }
 },
 "nbformat": 4,
 "nbformat_minor": 1
}
